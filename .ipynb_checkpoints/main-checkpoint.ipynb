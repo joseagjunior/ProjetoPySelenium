{
 "cells": [
  {
   "cell_type": "code",
   "execution_count": 14,
   "id": "0320ac4e-0c76-45bf-a37a-0ab9f5191a24",
   "metadata": {},
   "outputs": [],
   "source": [
    "from selenium import webdriver\n",
    "from selenium.webdriver.chrome.service import Service\n",
    "from webdriver_manager.chrome import ChromeDriverManager"
   ]
  },
  {
   "cell_type": "code",
   "execution_count": 40,
   "id": "014b59ef-a3e9-4427-bc58-5693a54bc636",
   "metadata": {},
   "outputs": [],
   "source": [
    "site = \"https://www.linkedin.com/\""
   ]
  },
  {
   "cell_type": "code",
   "execution_count": 39,
   "id": "95e23150-ee8d-43e1-8b32-c590050ef62c",
   "metadata": {},
   "outputs": [],
   "source": [
    "driver = webdriver.Chrome(service=Service(ChromeDriverManager().install()))"
   ]
  },
  {
   "cell_type": "code",
   "execution_count": 41,
   "id": "60c04fd5-ed40-4412-911f-5b6f7375ae75",
   "metadata": {},
   "outputs": [],
   "source": [
    "driver.get(site)"
   ]
  },
  {
   "cell_type": "code",
   "execution_count": null,
   "id": "ed5ad2ed-9d7e-408d-a147-f14bfac813cf",
   "metadata": {},
   "outputs": [],
   "source": [
    "driver.find_element_by_xpath(\"/html/body/nav/ul/li[4]/a\")"
   ]
  }
 ],
 "metadata": {
  "kernelspec": {
   "display_name": "Python 3 (ipykernel)",
   "language": "python",
   "name": "python3"
  },
  "language_info": {
   "codemirror_mode": {
    "name": "ipython",
    "version": 3
   },
   "file_extension": ".py",
   "mimetype": "text/x-python",
   "name": "python",
   "nbconvert_exporter": "python",
   "pygments_lexer": "ipython3",
   "version": "3.9.13"
  }
 },
 "nbformat": 4,
 "nbformat_minor": 5
}
