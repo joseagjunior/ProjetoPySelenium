{
 "cells": [
  {
   "cell_type": "code",
   "execution_count": 14,
   "id": "0320ac4e-0c76-45bf-a37a-0ab9f5191a24",
   "metadata": {},
   "outputs": [],
   "source": [
    "from selenium import webdriver\n",
    "from selenium.webdriver.chrome.service import Service\n",
    "from webdriver_manager.chrome import ChromeDriverManager"
   ]
  },
  {
   "cell_type": "code",
   "execution_count": 42,
   "id": "014b59ef-a3e9-4427-bc58-5693a54bc636",
   "metadata": {},
   "outputs": [],
   "source": [
    "site = \"https://www.linkedin.com/\""
   ]
  },
  {
   "cell_type": "code",
   "execution_count": 51,
   "id": "95e23150-ee8d-43e1-8b32-c590050ef62c",
   "metadata": {},
   "outputs": [],
   "source": [
    "driver = webdriver.Chrome(service=Service(ChromeDriverManager().install()))"
   ]
  },
  {
   "cell_type": "code",
   "execution_count": 52,
   "id": "60c04fd5-ed40-4412-911f-5b6f7375ae75",
   "metadata": {},
   "outputs": [],
   "source": [
    "driver.get(site)"
   ]
  },
  {
   "cell_type": "code",
   "execution_count": 53,
   "id": "ed5ad2ed-9d7e-408d-a147-f14bfac813cf",
   "metadata": {},
   "outputs": [
    {
     "ename": "AttributeError",
     "evalue": "'WebDriver' object has no attribute 'find_element_by_xpath'",
     "output_type": "error",
     "traceback": [
      "\u001b[1;31m---------------------------------------------------------------------------\u001b[0m",
      "\u001b[1;31mAttributeError\u001b[0m                            Traceback (most recent call last)",
      "\u001b[1;32m~\\AppData\\Local\\Temp\\ipykernel_11436\\385846460.py\u001b[0m in \u001b[0;36m<module>\u001b[1;34m\u001b[0m\n\u001b[1;32m----> 1\u001b[1;33m \u001b[0mdriver\u001b[0m\u001b[1;33m.\u001b[0m\u001b[0mfind_element_by_xpath\u001b[0m\u001b[1;33m(\u001b[0m\u001b[1;34m\"/html/body/nav/ul/li[4]/a\"\u001b[0m\u001b[1;33m)\u001b[0m\u001b[1;33m\u001b[0m\u001b[1;33m\u001b[0m\u001b[0m\n\u001b[0m",
      "\u001b[1;31mAttributeError\u001b[0m: 'WebDriver' object has no attribute 'find_element_by_xpath'"
     ]
    }
   ],
   "source": [
    "driver.find_element_by_xpath(\"/html/body/nav/ul/li[4]/a\")"
   ]
  },
  {
   "cell_type": "code",
   "execution_count": null,
   "id": "9c84ece8-c4a5-42d2-b6ac-7c11847558fa",
   "metadata": {},
   "outputs": [],
   "source": []
  }
 ],
 "metadata": {
  "kernelspec": {
   "display_name": "Python 3 (ipykernel)",
   "language": "python",
   "name": "python3"
  },
  "language_info": {
   "codemirror_mode": {
    "name": "ipython",
    "version": 3
   },
   "file_extension": ".py",
   "mimetype": "text/x-python",
   "name": "python",
   "nbconvert_exporter": "python",
   "pygments_lexer": "ipython3",
   "version": "3.9.13"
  }
 },
 "nbformat": 4,
 "nbformat_minor": 5
}
